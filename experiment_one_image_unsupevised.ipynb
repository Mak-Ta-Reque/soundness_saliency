{
 "cells": [
  {
   "cell_type": "code",
   "execution_count": 107,
   "metadata": {},
   "outputs": [],
   "source": [
    "import torch\n",
    "import os\n",
    "import pickle as pkl\n",
    "import numpy as np\n",
    "import torchvision\n",
    "import itertools\n",
    "import matplotlib.pyplot as plt\n",
    "from certificate_methods import *\n",
    "from utils import ReducedModel, parse\n",
    "from torch.utils.data import DataLoader\n",
    "import torchvision\n",
    "import torchvision.transforms as transforms\n",
    "from torchvision import datasets\n",
    "import cv2\n",
    "import glob"
   ]
  },
  {
   "cell_type": "code",
   "execution_count": 108,
   "metadata": {},
   "outputs": [
    {
     "name": "stdout",
     "output_type": "stream",
     "text": [
      "1.10.1+cu102\n",
      "0.11.2+cu102\n"
     ]
    }
   ],
   "source": [
    "import torch\n",
    "\n",
    "print(torch.__version__)\n",
    "print(torchvision.__version__)"
   ]
  },
  {
   "cell_type": "code",
   "execution_count": 109,
   "metadata": {},
   "outputs": [],
   "source": [
    "\n",
    "\n",
    "def scale_batch_images(batch, min_val=0, max_val=1):\n",
    "    \"\"\"\n",
    "    Scales a batch of PyTorch tensors (images) to the specified range [min_val, max_val].\n",
    "\n",
    "    Args:\n",
    "        batch (torch.Tensor): A batch of PyTorch tensors (images) to be scaled with shape (batch_size, channels, height, width)\n",
    "        min_val (float, optional): Minimum value of the target range. Defaults to 0.\n",
    "        max_val (float, optional): Maximum value of the target range. Defaults to 1.\n",
    "\n",
    "    Returns:\n",
    "        torch.Tensor: A new batch of PyTorch tensors with values scaled to the specified range\n",
    "    \"\"\"\n",
    "\n",
    "    batch_min = torch.amin(batch, dim=(1, 2, 3), keepdim=True)\n",
    "    batch_max = torch.amax(batch, dim=(1, 2, 3), keepdim=True)\n",
    "\n",
    "    # Normalize the batch of images to [0, 1] range\n",
    "    normalized_batch = (batch - batch_min) / (batch_max - batch_min)\n",
    "\n",
    "    # Scale the normalized batch to the target range [min_val, max_val]\n",
    "    scaled_batch = normalized_batch * (max_val - min_val) + min_val\n",
    "\n",
    "    return scaled_batch\n",
    "\n",
    "def man_transform(masked_imgs):\n",
    "    transformed_images = []\n",
    "    for img in masked_imgs:\n",
    "        mean = torch.tensor([0.485, 0.456, 0.406]).view(1, -1, 1, 1)\n",
    "        std = torch.tensor([0.229, 0.224, 0.225]).view(1, -1, 1, 1)\n",
    "        timg = torch.tensor(img).unsqueeze(0)  # Add an extra dimension to make it a batch of size 1\n",
    "    \n",
    "\n",
    "        normalized_image = (timg/torch.max(timg)- mean) / std\n",
    "        normalized_image = normalized_image [0]\n",
    "    \n",
    "\n",
    "        transformed_images.append(normalized_image)\n",
    "    stacked_images = torch.stack(transformed_images, dim=0)\n",
    "    return stacked_images\n",
    "\n",
    "# Example usage:\n",
    "# Assuming 'input_batch' is a PyTorch tensor of shape (batch_size, channels, height, width)\n",
    "# scaled_batch = scale_batch_images(input_batch, 0, 1)\n",
    "def evaluate(model, images, labels):\n",
    "    with torch.no_grad():\n",
    "        outputs = model(images)\n",
    "        output_probs = torch.nn.Softmax(dim = 1)(outputs).detach().cpu().numpy()\n",
    "    output_labels = np.argmax(output_probs, axis = 1)\n",
    "    correct = np.sum(output_labels == labels.numpy())\n",
    "    total = len(labels)\n",
    "    print(f\" Accuracy: {correct}/{total}: {correct / total}\")\n",
    "def prediction_probs(model, input_data):\n",
    "    prob_dicts = []\n",
    "    with torch.no_grad():\n",
    "        outputs = model(input_data.cuda())\n",
    "        output_probs = torch.nn.Softmax(dim = 1)(outputs).detach().cpu().numpy()\n",
    "        print(output_probs.shape)\n",
    "\n",
    "    output_labels = np.argmax(output_probs, axis = 1)\n",
    "    for it in output_labels:\n",
    "        prob_dicts.append({it: output_probs[0][it]})\n",
    "        \n",
    "    return prob_dicts"
   ]
  },
  {
   "cell_type": "code",
   "execution_count": 110,
   "metadata": {},
   "outputs": [],
   "source": [
    "# Model\n",
    "class Encoder(nn.Module):\n",
    "    \n",
    "    def __init__(self, input_dim, hidden_dim, latent_dim):\n",
    "        super(Encoder, self).__init__()\n",
    "\n",
    "        self.FC_input = nn.Linear(input_dim, hidden_dim)\n",
    "        self.FC_input2 = nn.Linear(hidden_dim, hidden_dim)\n",
    "        self.FC_mean  = nn.Linear(hidden_dim, latent_dim)\n",
    "        self.FC_var   = nn.Linear (hidden_dim, latent_dim)\n",
    "        \n",
    "        self.LeakyReLU = nn.LeakyReLU(0.2)\n",
    "        \n",
    "        self.training = True\n",
    "        \n",
    "    def forward(self, x):\n",
    "        h_       = self.LeakyReLU(self.FC_input(x))\n",
    "        h_       = self.LeakyReLU(self.FC_input2(h_))\n",
    "        mean     = self.FC_mean(h_)\n",
    "        log_var  = self.FC_var(h_)                     # encoder produces mean and log of variance \n",
    "                                                       #             (i.e., parateters of simple tractable normal distribution \"q\"\n",
    "        \n",
    "        return mean, log_var\n",
    "# LOad trianed weight\n",
    "x_dim  = 784\n",
    "hidden_dim = 400\n",
    "latent_dim = 10\n",
    "batch_size = 1\n",
    "model = Encoder(input_dim=x_dim, hidden_dim=hidden_dim, latent_dim=latent_dim)\n",
    "\n",
    "model.load_state_dict(torch.load(\"Pytorch-VAE-tutorial/enocde_weight.pth\"))\n",
    "\n",
    "model = model.eval()\n",
    "\n",
    "class Unsupervised(nn.Module):\n",
    "    \n",
    "    def __init__(self, basemodel):\n",
    "        super(Unsupervised, self).__init__()\n",
    "        self.encoder = basemodel\n",
    "        self.m = nn.Softmax(dim=1)\n",
    " \n",
    "        \n",
    "    def forward(self, x):\n",
    "        x = x.view(1, x_dim)\n",
    "        mean, var = self.encoder(x)\n",
    "        z = mean + var\n",
    "        z = self.m(z)\n",
    "        return z\n",
    "unsup = Unsupervised(basemodel=model)\n",
    "unsup = unsup.eval()\n"
   ]
  },
  {
   "attachments": {},
   "cell_type": "markdown",
   "metadata": {},
   "source": [
    "## Load model"
   ]
  },
  {
   "cell_type": "code",
   "execution_count": 111,
   "metadata": {},
   "outputs": [],
   "source": [
    "from torchvision.datasets import MNIST\n",
    "import torchvision.transforms as transforms\n",
    "from torch.utils.data import DataLoader\n",
    "\n",
    "dataset_path = '~/datasets'\n",
    "batch_size = 5\n",
    "mnist_transform = transforms.Compose([\n",
    "        transforms.ToTensor(),\n",
    "])\n",
    "\n",
    "kwargs = {'num_workers': 1, 'pin_memory': True} \n",
    "\n",
    "train_dataset = MNIST(dataset_path, transform=mnist_transform, train=True, download=True)\n",
    "test_dataset  = MNIST(dataset_path, transform=mnist_transform, train=False, download=True)\n",
    "\n",
    "train_loader = DataLoader(dataset=train_dataset, batch_size=batch_size, shuffle=True, **kwargs)\n",
    "test_loader  = DataLoader(dataset=test_dataset,  batch_size=batch_size, shuffle=False, **kwargs)\n"
   ]
  },
  {
   "cell_type": "code",
   "execution_count": 112,
   "metadata": {},
   "outputs": [
    {
     "name": "stdout",
     "output_type": "stream",
     "text": [
      "torch.Size([5, 1, 28, 28])\n",
      "torch.Size([1, 1, 28, 28])\n"
     ]
    }
   ],
   "source": [
    "sample, class_num  = iter(test_loader).next()\n",
    "print(sample.shape)\n",
    "sample = sample[0:1]\n",
    "class_num = class_num[0:1]\n",
    "print(sample.shape)"
   ]
  },
  {
   "attachments": {},
   "cell_type": "markdown",
   "metadata": {},
   "source": [
    "## load sample images and labels"
   ]
  },
  {
   "cell_type": "code",
   "execution_count": 144,
   "metadata": {},
   "outputs": [
    {
     "name": "stdout",
     "output_type": "stream",
     "text": [
      "(1, 10)\n",
      "The output cluster and the probability of them:  [{3: 0.23196931}]\n"
     ]
    },
    {
     "data": {
      "image/png": "[encoded data removed]",
      "text/plain": [
       "<Figure size 432x288 with 1 Axes>"
      ]
     },
     "metadata": {
      "needs_background": "light"
     },
     "output_type": "display_data"
    }
   ],
   "source": [
    "input_image = sample.cuda() #+ torch.normal(.5, 0.16, size=input_tensor.shape).cuda()\n",
    "#input_image = torch.ones(size=sample.shape).cuda() * 255\n",
    "plt.imshow(input_image[0].permute(1, 2, 0).cpu().numpy())\n",
    "#all_images = scale_batch_images(all_images)\n",
    "label = torch.tensor([class_num]).cuda()\n",
    "#input_images = man_transform(all_images).cuda()\n",
    "probdict = prediction_probs(unsup.cuda(), input_image)\n",
    "print(\"The output cluster and the probability of them: \", probdict)\n"
   ]
  },
  {
   "attachments": {},
   "cell_type": "markdown",
   "metadata": {},
   "source": [
    "## Noise base. It is the baseline for removing feature"
   ]
  },
  {
   "cell_type": "code",
   "execution_count": 145,
   "metadata": {},
   "outputs": [
    {
     "name": "stdout",
     "output_type": "stream",
     "text": [
      "Number of noise image:  100\n"
     ]
    }
   ],
   "source": [
    "noise_images = torch.from_numpy(np.load('./noise_images.npy'))\n",
    "print(\"Number of noise image: \" , len(noise_images))\n",
    "# Use grey:\n",
    "noise_images = None\n",
    "#print(noise_images.shape)"
   ]
  },
  {
   "cell_type": "code",
   "execution_count": 154,
   "metadata": {},
   "outputs": [],
   "source": [
    "K = 1\n",
    "scale = 4\n",
    "lr = 0.5\n",
    "steps = 5000\n",
    "obj = 'xent'\n",
    "noise_bs = 10\n",
    "reg_l1 = 2e-05\n",
    "reg_tv = 0.01\n",
    "reg_ent = 0.0\n",
    "debug = True\n",
    "model = unsup.cuda()"
   ]
  },
  {
   "cell_type": "code",
   "execution_count": 155,
   "metadata": {},
   "outputs": [
    {
     "name": "stdout",
     "output_type": "stream",
     "text": [
      "torch.Size([1, 1, 28, 28])\n",
      "Total classes in the model:  10\n",
      "1 4 0.5 5000 xent 10 2e-05 0.01 0.0\n",
      "4999: loss: 2.17, l1 norm: 5, tv: 0.03, ent: 0.03, pred prob: 0.2319\n"
     ]
    }
   ],
   "source": [
    "print(input_image.shape)\n",
    "with torch.no_grad():\n",
    "    outputs = model(input_image.cuda())\n",
    "    output_probs = torch.nn.Softmax(dim = 1)(outputs).detach().cpu().numpy()\n",
    "print(\"Total classes in the model: \", len(output_probs[0]))\n",
    "#Force explnation\n",
    "output_labels = np.argmax(output_probs, axis = 1)\n",
    "output_labels = [1]\n",
    "probs = torch.zeros(input_image.shape[0], 200)\n",
    "for target_label in output_labels:\n",
    "    probs[:, target_label] = 1\n",
    "\n",
    "batch_masked_model = learn_masks_for_batch_Kcert(\n",
    "                model, input_image, target_probs=probs, K=K, scale=scale,\n",
    "                opt=optim.Adam, lr=lr, steps=steps, obj=obj,\n",
    "                noise_mean=None, noise_batch=noise_images, noise_bs=noise_bs,\n",
    "                reg_l1=reg_l1, reg_tv=reg_tv, reg_ent=reg_ent, old_mask=None, debug=debug)\n",
    "masks = batch_masked_model.mask().detach().cpu()\n"
   ]
  },
  {
   "cell_type": "code",
   "execution_count": 156,
   "metadata": {},
   "outputs": [
    {
     "name": "stdout",
     "output_type": "stream",
     "text": [
      "tensor([[0.0853, 0.2319, 0.0853, 0.0853, 0.0853, 0.0853, 0.0853, 0.0853, 0.0853,\n",
      "         0.0853]], device='cuda:0', grad_fn=<SoftmaxBackward0>)\n",
      "[{1: 0.23191052675247192}]\n"
     ]
    }
   ],
   "source": [
    "prob_dicts = []\n",
    "probs = batch_masked_model(model ,input_image, masks=masks.cuda()[0])\n",
    "print(probs)\n",
    "prediction_labels = torch.argmax(probs, axis = 1)\n",
    "for it in prediction_labels:\n",
    "    prob_dicts.append({it.item(): probs[0][it].detach().item()})\n",
    "print(prob_dicts)"
   ]
  },
  {
   "cell_type": "code",
   "execution_count": 157,
   "metadata": {},
   "outputs": [
    {
     "name": "stdout",
     "output_type": "stream",
     "text": [
      "torch.Size([2, 1, 1, 28, 28])\n",
      "torch.Size([1, 1, 28, 28])\n",
      "tensor(1.)\n"
     ]
    },
    {
     "data": {
      "text/plain": [
       "<matplotlib.image.AxesImage at 0x7f30b44c52e8>"
      ]
     },
     "execution_count": 157,
     "metadata": {},
     "output_type": "execute_result"
    },
    {
     "data": {
      "image/png": "[encoded data removed]",
      "text/plain": [
       "<Figure size 432x288 with 1 Axes>"
      ]
     },
     "metadata": {
      "needs_background": "light"
     },
     "output_type": "display_data"
    }
   ],
   "source": [
    "print(masks.shape)\n",
    "heatmap = masks[0]\n",
    "neg_heatmap = masks[1]\n",
    "print(heatmap.shape)\n",
    "\n",
    "# normalize heatmap \n",
    "#heatmap = scale_batch_images(heatmap)\n",
    "\n",
    "#plt.close()\n",
    "heatmap = scale_batch_images(heatmap)\n",
    "print(torch.max(heatmap[0][0]))\n",
    "plt.imshow(heatmap.cpu().numpy()[0][0])"
   ]
  },
  {
   "cell_type": "code",
   "execution_count": 158,
   "metadata": {},
   "outputs": [
    {
     "ename": "AttributeError",
     "evalue": "'AxesSubplot' object has no attribute 'flat'",
     "output_type": "error",
     "traceback": [
      "\u001b[0;31m---------------------------------------------------------------------------\u001b[0m",
      "\u001b[0;31mAttributeError\u001b[0m                            Traceback (most recent call last)",
      "\u001b[0;32m<ipython-input-158-d4fe8fc7b411>\u001b[0m in \u001b[0;36m<module>\u001b[0;34m\u001b[0m\n\u001b[1;32m     56\u001b[0m     \u001b[0;31m# Display the grid of images\u001b[0m\u001b[0;34m\u001b[0m\u001b[0;34m\u001b[0m\u001b[0;34m\u001b[0m\u001b[0m\n\u001b[1;32m     57\u001b[0m     \u001b[0mplt\u001b[0m\u001b[0;34m.\u001b[0m\u001b[0mshow\u001b[0m\u001b[0;34m(\u001b[0m\u001b[0;34m)\u001b[0m\u001b[0;34m\u001b[0m\u001b[0;34m\u001b[0m\u001b[0m\n\u001b[0;32m---> 58\u001b[0;31m \u001b[0mplot_image_grid\u001b[0m\u001b[0;34m(\u001b[0m\u001b[0mheatmap\u001b[0m\u001b[0;34m)\u001b[0m\u001b[0;34m\u001b[0m\u001b[0;34m\u001b[0m\u001b[0m\n\u001b[0m\u001b[1;32m     59\u001b[0m \u001b[0mplot_image_grid\u001b[0m\u001b[0;34m(\u001b[0m\u001b[0mimages\u001b[0m\u001b[0;34m.\u001b[0m\u001b[0mnumpy\u001b[0m\u001b[0;34m(\u001b[0m\u001b[0;34m)\u001b[0m\u001b[0;34m)\u001b[0m\u001b[0;34m\u001b[0m\u001b[0;34m\u001b[0m\u001b[0m\n",
      "\u001b[0;32m<ipython-input-158-d4fe8fc7b411>\u001b[0m in \u001b[0;36mplot_image_grid\u001b[0;34m(images_array)\u001b[0m\n\u001b[1;32m     34\u001b[0m \u001b[0;34m\u001b[0m\u001b[0m\n\u001b[1;32m     35\u001b[0m     \u001b[0;31m# Iterate through the axes and plot the images\u001b[0m\u001b[0;34m\u001b[0m\u001b[0;34m\u001b[0m\u001b[0;34m\u001b[0m\u001b[0m\n\u001b[0;32m---> 36\u001b[0;31m     \u001b[0;32mfor\u001b[0m \u001b[0mi\u001b[0m\u001b[0;34m,\u001b[0m \u001b[0max\u001b[0m \u001b[0;32min\u001b[0m \u001b[0menumerate\u001b[0m\u001b[0;34m(\u001b[0m\u001b[0maxes\u001b[0m\u001b[0;34m.\u001b[0m\u001b[0mflat\u001b[0m\u001b[0;34m)\u001b[0m\u001b[0;34m:\u001b[0m\u001b[0;34m\u001b[0m\u001b[0;34m\u001b[0m\u001b[0m\n\u001b[0m\u001b[1;32m     37\u001b[0m         \u001b[0;32mif\u001b[0m \u001b[0mi\u001b[0m \u001b[0;34m<\u001b[0m \u001b[0mlen\u001b[0m\u001b[0;34m(\u001b[0m\u001b[0mimages_array\u001b[0m\u001b[0;34m)\u001b[0m\u001b[0;34m:\u001b[0m\u001b[0;34m\u001b[0m\u001b[0;34m\u001b[0m\u001b[0m\n\u001b[1;32m     38\u001b[0m             \u001b[0;31m# Remove x-axis and y-axis ticks\u001b[0m\u001b[0;34m\u001b[0m\u001b[0;34m\u001b[0m\u001b[0;34m\u001b[0m\u001b[0m\n",
      "\u001b[0;31mAttributeError\u001b[0m: 'AxesSubplot' object has no attribute 'flat'"
     ]
    },
    {
     "data": {
      "image/png": "[encoded data removed]",
      "text/plain": [
       "<Figure size 720x720 with 1 Axes>"
      ]
     },
     "metadata": {
      "needs_background": "light"
     },
     "output_type": "display_data"
    }
   ],
   "source": [
    "\n",
    "\n",
    "def scale_image_to_255(image_array):\n",
    "    \"\"\"\n",
    "    Scales the input image array to the range [0, 255].\n",
    "\n",
    "    Args:\n",
    "        image_array (np.array): A NumPy array representing an image\n",
    "\n",
    "    Returns:\n",
    "        np.array: A new NumPy array with pixel values scaled to the range [0, 255]\n",
    "    \"\"\"\n",
    "    print(image_array)\n",
    "    # Find the minimum and maximum pixel values\n",
    "    min_val = np.min(image_array)\n",
    "    max_val = np.max(image_array)\n",
    "    # Scale the image array to the range [0, 255]\n",
    "    scaled_image_array = 255 * (image_array - min_val) / (max_val - min_val)\n",
    "\n",
    "    return scaled_image_array\n",
    "\n",
    "\n",
    "def plot_image_grid(images_array):\n",
    "    \"\"\"\n",
    "    Plots a grid of images from a NumPy array.\n",
    "\n",
    "    Args:\n",
    "    images_array (numpy.ndarray): A NumPy array of images with shape (num_images, height, width) or (num_images, height, width, channels)\n",
    "    \"\"\"\n",
    "\n",
    "    # Determine the grid size based on the number of images\n",
    "    grid_size = int(np.ceil(np.sqrt(len(images_array))))\n",
    "\n",
    "    # Create the figure and axes objects\n",
    "    fig, axes = plt.subplots(grid_size, grid_size, figsize=(10, 10))\n",
    "\n",
    "    # Iterate through the axes and plot the images\n",
    "    for i, ax in enumerate(axes.flat):\n",
    "        if i < len(images_array):\n",
    "            # Remove x-axis and y-axis ticks\n",
    "            ax.set_xticks([])\n",
    "            ax.set_yticks([])\n",
    "\n",
    "            # Plot the image on the current axis\n",
    "            if images_array.shape[1] == 1:\n",
    "                img = images_array[i][0] \n",
    "            else:\n",
    "                img = np.transpose(images_array[i], (1, 2, 0))\n",
    "\n",
    "            ax.imshow(img, cmap='gray' if images_array.shape[1] == 1 else None)\n",
    "        else:\n",
    "            # Remove the empty subplot\n",
    "            fig.delaxes(ax)\n",
    "\n",
    "    # Add space between the subplots\n",
    "    plt.subplots_adjust(wspace=0.1, hspace=0.1)\n",
    "\n",
    "    # Display the grid of images\n",
    "    plt.show()\n",
    "plot_image_grid(heatmap)\n",
    "plot_image_grid(images.numpy())"
   ]
  },
  {
   "cell_type": "code",
   "execution_count": 159,
   "metadata": {},
   "outputs": [
    {
     "name": "stdout",
     "output_type": "stream",
     "text": [
      "torch.Size([1, 1, 28, 28])\n",
      "torch.Size([1, 28, 28])\n"
     ]
    },
    {
     "data": {
      "image/png": "[encoded data removed]",
      "text/plain": [
       "<Figure size 432x288 with 1 Axes>"
      ]
     },
     "metadata": {
      "needs_background": "light"
     },
     "output_type": "display_data"
    }
   ],
   "source": [
    "\n",
    "\n",
    "def apply_masks_to_images(images_list, masks_list):\n",
    "    \"\"\"\n",
    "    Applies individual single-channel masks to a list of channel-first 3-channel images.\n",
    "\n",
    "    Args:\n",
    "        images_list (list of np.array): A list of channel-first 3-channel images, each with shape (3, height, width)\n",
    "        masks_list (list of np.array): A list of single-channel masks, each with shape (height, width)\n",
    "\n",
    "    Returns:\n",
    "        list of np.array: A list of masked channel-first images, each with shape (3, height, width)\n",
    "    \"\"\"\n",
    "\n",
    "    if len(images_list) != len(masks_list):\n",
    "        raise ValueError(\"The number of images and masks must be equal\")\n",
    "\n",
    "    masked_images = []\n",
    "\n",
    "    for image, mask in zip(images_list, masks_list):\n",
    "        if len(image.shape) != 3 or image.shape[0] != 1:\n",
    "            raise ValueError(\"Each input image must have a shape of (3, height, width)\")\n",
    "        print(mask.shape)\n",
    "        if len(mask.shape) != 3:\n",
    "            raise ValueError(\"Each input mask must have a shape of (channel, height, width)\")\n",
    "\n",
    "        # Expand the mask to match the shape of the image\n",
    "        s_mask = mask[0]\n",
    "        expanded_mask =  s_mask#.unsqueeze(0).repeat(3, 1, 1)\n",
    "        # Multiply the image with the expanded mask\n",
    "        masked_image = image * expanded_mask\n",
    "\n",
    "        # Add the masked image to the list\n",
    "        masked_images.append(masked_image)\n",
    "    masked_images = torch.stack(masked_images, axis=0)\n",
    "    return masked_images\n",
    "#plt.imshow(neg_heatmap[0][0])\n",
    "print(heatmap.shape)\n",
    "masked_image = apply_masks_to_images(input_image, heatmap.cuda())\n",
    "\n",
    "masked_image_vis = scale_batch_images(masked_image)\n",
    "\n",
    "\n",
    "plt.imshow(masked_image[0].permute(1, 2, 0).cpu().numpy())\n",
    "image = transforms.ToPILImage()(masked_image_vis[0])\n",
    "\n",
    "# Save the PIL image to a file\n",
    "image.save(\"image.jpeg\")"
   ]
  },
  {
   "cell_type": "code",
   "execution_count": null,
   "metadata": {},
   "outputs": [],
   "source": []
  },
  {
   "cell_type": "code",
   "execution_count": 160,
   "metadata": {},
   "outputs": [
    {
     "name": "stdout",
     "output_type": "stream",
     "text": [
      "Masked images shape:  torch.Size([1, 1, 28, 28])\n",
      "Masked image max, min:  tensor(255., device='cuda:0') tensor(0., device='cuda:0')\n",
      "(1, 10)\n",
      "The output and the probability of them:  [{1: 0.23196931}]\n"
     ]
    },
    {
     "data": {
      "image/png": "[encoded data removed]",
      "text/plain": [
       "<Figure size 432x288 with 1 Axes>"
      ]
     },
     "metadata": {
      "needs_background": "light"
     },
     "output_type": "display_data"
    }
   ],
   "source": [
    "print(\"Masked images shape: \",masked_image.shape)\n",
    "print(\"Masked image max, min: \", torch.max(masked_image), torch.min(masked_image))\n",
    "masked_input = masked_image.clone().detach().cuda()\n",
    "#acc = evaluate(model,masked_image, label)\n",
    "probdict = prediction_probs(model, masked_image)\n",
    "print(\"The output and the probability of them: \", probdict)\n",
    "plt.imshow(masked_image[0].permute(1, 2, 0).cpu().numpy())\n",
    "plt.axis(\"off\")\n",
    "#plt.title(f\"{data_dict[str(list(probdict[0].keys())[0])][1]}:{list(probdict[0].values())[0]}\")\n",
    "plt.show()"
   ]
  },
  {
   "cell_type": "code",
   "execution_count": 103,
   "metadata": {},
   "outputs": [
    {
     "ename": "TypeError",
     "evalue": "can't convert cuda:0 device type tensor to numpy. Use Tensor.cpu() to copy the tensor to host memory first.",
     "output_type": "error",
     "traceback": [
      "\u001b[0;31m---------------------------------------------------------------------------\u001b[0m",
      "\u001b[0;31mTypeError\u001b[0m                                 Traceback (most recent call last)",
      "\u001b[0;32m<ipython-input-103-36dfea7bf74e>\u001b[0m in \u001b[0;36m<module>\u001b[0;34m\u001b[0m\n\u001b[1;32m      1\u001b[0m \u001b[0mmasked_input\u001b[0m \u001b[0;34m=\u001b[0m \u001b[0mmasked_image\u001b[0m\u001b[0;34m.\u001b[0m\u001b[0mclone\u001b[0m\u001b[0;34m(\u001b[0m\u001b[0;34m)\u001b[0m\u001b[0;34m.\u001b[0m\u001b[0mdetach\u001b[0m\u001b[0;34m(\u001b[0m\u001b[0;34m)\u001b[0m\u001b[0;34m.\u001b[0m\u001b[0mcuda\u001b[0m\u001b[0;34m(\u001b[0m\u001b[0;34m)\u001b[0m\u001b[0;34m\u001b[0m\u001b[0;34m\u001b[0m\u001b[0m\n\u001b[0;32m----> 2\u001b[0;31m \u001b[0macc\u001b[0m \u001b[0;34m=\u001b[0m \u001b[0mevaluate\u001b[0m\u001b[0;34m(\u001b[0m\u001b[0mmodel\u001b[0m\u001b[0;34m,\u001b[0m\u001b[0mmasked_image\u001b[0m\u001b[0;34m,\u001b[0m \u001b[0mlabel\u001b[0m\u001b[0;34m)\u001b[0m\u001b[0;34m\u001b[0m\u001b[0;34m\u001b[0m\u001b[0m\n\u001b[0m\u001b[1;32m      3\u001b[0m \u001b[0mprobdict\u001b[0m \u001b[0;34m=\u001b[0m \u001b[0mprediction_probs\u001b[0m\u001b[0;34m(\u001b[0m\u001b[0mmodel\u001b[0m\u001b[0;34m,\u001b[0m\u001b[0mmasked_image\u001b[0m\u001b[0;34m)\u001b[0m\u001b[0;34m\u001b[0m\u001b[0;34m\u001b[0m\u001b[0m\n\u001b[1;32m      4\u001b[0m \u001b[0mprint\u001b[0m\u001b[0;34m(\u001b[0m\u001b[0;34m\"The output and the probability of them: \"\u001b[0m\u001b[0;34m,\u001b[0m \u001b[0mprobdict\u001b[0m\u001b[0;34m)\u001b[0m\u001b[0;34m\u001b[0m\u001b[0;34m\u001b[0m\u001b[0m\n",
      "\u001b[0;32m<ipython-input-58-e5bbac1a0446>\u001b[0m in \u001b[0;36mevaluate\u001b[0;34m(model, images, labels)\u001b[0m\n\u001b[1;32m     47\u001b[0m         \u001b[0moutput_probs\u001b[0m \u001b[0;34m=\u001b[0m \u001b[0mtorch\u001b[0m\u001b[0;34m.\u001b[0m\u001b[0mnn\u001b[0m\u001b[0;34m.\u001b[0m\u001b[0mSoftmax\u001b[0m\u001b[0;34m(\u001b[0m\u001b[0mdim\u001b[0m \u001b[0;34m=\u001b[0m \u001b[0;36m1\u001b[0m\u001b[0;34m)\u001b[0m\u001b[0;34m(\u001b[0m\u001b[0moutputs\u001b[0m\u001b[0;34m)\u001b[0m\u001b[0;34m.\u001b[0m\u001b[0mdetach\u001b[0m\u001b[0;34m(\u001b[0m\u001b[0;34m)\u001b[0m\u001b[0;34m.\u001b[0m\u001b[0mcpu\u001b[0m\u001b[0;34m(\u001b[0m\u001b[0;34m)\u001b[0m\u001b[0;34m.\u001b[0m\u001b[0mnumpy\u001b[0m\u001b[0;34m(\u001b[0m\u001b[0;34m)\u001b[0m\u001b[0;34m\u001b[0m\u001b[0;34m\u001b[0m\u001b[0m\n\u001b[1;32m     48\u001b[0m     \u001b[0moutput_labels\u001b[0m \u001b[0;34m=\u001b[0m \u001b[0mnp\u001b[0m\u001b[0;34m.\u001b[0m\u001b[0margmax\u001b[0m\u001b[0;34m(\u001b[0m\u001b[0moutput_probs\u001b[0m\u001b[0;34m,\u001b[0m \u001b[0maxis\u001b[0m \u001b[0;34m=\u001b[0m \u001b[0;36m1\u001b[0m\u001b[0;34m)\u001b[0m\u001b[0;34m\u001b[0m\u001b[0;34m\u001b[0m\u001b[0m\n\u001b[0;32m---> 49\u001b[0;31m     \u001b[0mcorrect\u001b[0m \u001b[0;34m=\u001b[0m \u001b[0mnp\u001b[0m\u001b[0;34m.\u001b[0m\u001b[0msum\u001b[0m\u001b[0;34m(\u001b[0m\u001b[0moutput_labels\u001b[0m \u001b[0;34m==\u001b[0m \u001b[0mlabels\u001b[0m\u001b[0;34m.\u001b[0m\u001b[0mnumpy\u001b[0m\u001b[0;34m(\u001b[0m\u001b[0;34m)\u001b[0m\u001b[0;34m)\u001b[0m\u001b[0;34m\u001b[0m\u001b[0;34m\u001b[0m\u001b[0m\n\u001b[0m\u001b[1;32m     50\u001b[0m     \u001b[0mtotal\u001b[0m \u001b[0;34m=\u001b[0m \u001b[0mlen\u001b[0m\u001b[0;34m(\u001b[0m\u001b[0mlabels\u001b[0m\u001b[0;34m)\u001b[0m\u001b[0;34m\u001b[0m\u001b[0;34m\u001b[0m\u001b[0m\n\u001b[1;32m     51\u001b[0m     \u001b[0mprint\u001b[0m\u001b[0;34m(\u001b[0m\u001b[0;34mf\" Accuracy: {correct}/{total}: {correct / total}\"\u001b[0m\u001b[0;34m)\u001b[0m\u001b[0;34m\u001b[0m\u001b[0;34m\u001b[0m\u001b[0m\n",
      "\u001b[0;31mTypeError\u001b[0m: can't convert cuda:0 device type tensor to numpy. Use Tensor.cpu() to copy the tensor to host memory first."
     ]
    }
   ],
   "source": [
    "masked_input = masked_image.clone().detach().cuda()\n",
    "acc = evaluate(model,masked_image, label)\n",
    "probdict = prediction_probs(model,masked_image)\n",
    "print(\"The output and the probability of them: \", probdict)"
   ]
  },
  {
   "attachments": {},
   "cell_type": "markdown",
   "metadata": {},
   "source": [
    "Masked images shape:  torch.Size([1, 3, 224, 224])\n",
    "Masked image max, min:  tensor(0.1331) tensor(0.)\n",
    " Accuracy: 1/1: 1.0\n",
    "The output and the probability of them:  [{782: 0.99647576}]"
   ]
  }
 ],
 "metadata": {
  "kernelspec": {
   "display_name": "thesis-env",
   "language": "python",
   "name": "python3"
  },
  "language_info": {
   "codemirror_mode": {
    "name": "ipython",
    "version": 3
   },
   "file_extension": ".py",
   "mimetype": "text/x-python",
   "name": "python",
   "nbconvert_exporter": "python",
   "pygments_lexer": "ipython3",
   "version": "3.6.9"
  },
  "orig_nbformat": 4
 },
 "nbformat": 4,
 "nbformat_minor": 2
}
